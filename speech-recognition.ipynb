{
 "cells": [
  {
   "cell_type": "markdown",
   "metadata": {
    "deletable": true,
    "editable": true
   },
   "source": [
    "# Speech recognition\n",
    "\n",
    "Simple speech recognition system can be implemented using DTW.\n",
    "\n",
    "This notebook is inspired by [Rouanet DTW library example](http://nbviewer.jupyter.org/github/pierre-rouanet/dtw/blob/master/speech-recognition.ipynb)"
   ]
  },
  {
   "cell_type": "markdown",
   "metadata": {
    "deletable": true,
    "editable": true
   },
   "source": [
    "We will use a simple [database](https://www.dropbox.com/s/c12fmsctfwwov5d/sounds.zip) composed of 12 french words pronounced about 25 times by different speakers."
   ]
  },
  {
   "cell_type": "code",
   "execution_count": 1,
   "metadata": {
    "collapsed": true,
    "deletable": true,
    "editable": true
   },
   "outputs": [],
   "source": [
    "import librosa\n",
    "from dtw import dtw\n",
    "import matplotlib as plt\n",
    "import numpy as np\n",
    "import glob\n",
    "import operator\n",
    "\n",
    "%matplotlib inline"
   ]
  },
  {
   "cell_type": "markdown",
   "metadata": {
    "deletable": true,
    "editable": true
   },
   "source": [
    "### Loading Data"
   ]
  },
  {
   "cell_type": "code",
   "execution_count": 2,
   "metadata": {
    "collapsed": false,
    "deletable": true,
    "editable": true
   },
   "outputs": [
    {
     "name": "stdout",
     "output_type": "stream",
     "text": [
      "CPU times: user 10.6 s, sys: 32 ms, total: 10.6 s\n",
      "Wall time: 10.7 s\n"
     ]
    }
   ],
   "source": [
    "%%time\n",
    "\n",
    "y = []\n",
    "with open('sounds/wavToTag.txt') as f:\n",
    "    y = list([l.replace('\\n', '') for l in f.readlines()])\n",
    "\n",
    "X = []\n",
    "for i in range(len(y)):\n",
    "    x, sample_rate = librosa.load(\"sounds/{}.wav\".format(i))\n",
    "    X.append(x)"
   ]
  },
  {
   "cell_type": "markdown",
   "metadata": {
    "deletable": true,
    "editable": true
   },
   "source": [
    "### Processing"
   ]
  },
  {
   "cell_type": "code",
   "execution_count": 3,
   "metadata": {
    "collapsed": true,
    "deletable": true,
    "editable": true
   },
   "outputs": [],
   "source": [
    "n_window_samples = int(sample_rate * 2 * 10**(-3))\n",
    "\n",
    "def reshape_sound(x):\n",
    "    # reshape into windows of width of 20 ms\n",
    "    \n",
    "    new_len = np.floor_divide(x.shape[0], n_window_samples) * n_window_samples\n",
    "    x = x[0:new_len]\n",
    "    x = x.reshape((n_window_samples, -1), order='F')\n",
    "    return x"
   ]
  },
  {
   "cell_type": "code",
   "execution_count": 4,
   "metadata": {
    "collapsed": true,
    "deletable": true,
    "editable": true
   },
   "outputs": [],
   "source": [
    "X = [reshape_sound(x) for x in X]"
   ]
  },
  {
   "cell_type": "markdown",
   "metadata": {
    "deletable": true,
    "editable": true
   },
   "source": [
    "### Define groundtruth data"
   ]
  },
  {
   "cell_type": "code",
   "execution_count": null,
   "metadata": {
    "collapsed": false,
    "deletable": true,
    "editable": true
   },
   "outputs": [],
   "source": [
    "gt = dict()\n",
    "\n",
    "unique_labels = set(y)\n",
    "for l in unique_labels:\n",
    "    idx = y.index(l)\n",
    "    y.pop(idx)\n",
    "    x = X.pop(idx)\n",
    "    gt[l] = x"
   ]
  },
  {
   "cell_type": "markdown",
   "metadata": {
    "deletable": true,
    "editable": true
   },
   "source": [
    "### Classificating!"
   ]
  },
  {
   "cell_type": "code",
   "execution_count": null,
   "metadata": {
    "collapsed": false,
    "deletable": true,
    "editable": true
   },
   "outputs": [
    {
     "name": "stdout",
     "output_type": "stream",
     "text": [
      "chaussure       5º\n",
      "manette         2º\n",
      "chaussure       4º\n",
      "sofoot          1º\n",
      "manette         1º\n",
      "stade           3º\n",
      "gants           1º\n",
      "jeuvideo        8º\n",
      "stade           5º\n",
      "gants           1º\n",
      "gants           2º\n",
      "biere           6º\n",
      "jeuvideo        8º\n",
      "zidane         10º\n",
      "sofoot          1º\n",
      "biere           4º\n",
      "zidane          9º\n",
      "jeuvideo        8º\n",
      "cocacola       11º\n",
      "manette         2º\n",
      "sofoot          1º\n",
      "cocacola       12º\n",
      "biere           5º\n",
      "sofoot          1º\n",
      "beckham         6º\n",
      "stade           4º\n",
      "zidane          9º\n",
      "chaussure       7º\n",
      "manette         1º\n",
      "biere           3º\n",
      "sofoot          2º\n"
     ]
    }
   ],
   "source": [
    "%%time\n",
    "\n",
    "classifications = dict(zip(unique_labels, [[]]*len(unique_labels)))\n",
    "\n",
    "for idx in range(len(y)):\n",
    "    x = X[idx]\n",
    "    \n",
    "    # for each reference sound calculate dtw distance to x\n",
    "    # save it in a dictionary where the key is the reference label\n",
    "    x_distance = {}\n",
    "    for label, ground in gt.items():\n",
    "        cost, path = librosa.dtw(x, ground)\n",
    "        path = np.array(path)\n",
    "        columns = path[:,0]\n",
    "        rows = path[:,1]\n",
    "        min_cost = np.sum(cost[columns, rows])\n",
    "        x_distance[label] = min_cost\n",
    "\n",
    "    # ascending order by distance\n",
    "    ordered_distance = sorted(x_distance.items(), key=operator.itemgetter(1))\n",
    "    predictions_rank = [l[0] for l in ordered_distance]\n",
    "    real_label_position = predictions_rank.index(y[idx])\n",
    "    classifications[y[idx]].append(real_label_position)\n",
    "    \n",
    "    print(\"{0: <15s}{1:2d}º\".format(y[idx], (real_label_position+1)))"
   ]
  },
  {
   "cell_type": "code",
   "execution_count": null,
   "metadata": {
    "collapsed": true
   },
   "outputs": [],
   "source": []
  }
 ],
 "metadata": {
  "kernelspec": {
   "display_name": "Python 3",
   "language": "python",
   "name": "python3"
  },
  "language_info": {
   "codemirror_mode": {
    "name": "ipython",
    "version": 3
   },
   "file_extension": ".py",
   "mimetype": "text/x-python",
   "name": "python",
   "nbconvert_exporter": "python",
   "pygments_lexer": "ipython3",
   "version": "3.5.3rc1"
  }
 },
 "nbformat": 4,
 "nbformat_minor": 1
}
