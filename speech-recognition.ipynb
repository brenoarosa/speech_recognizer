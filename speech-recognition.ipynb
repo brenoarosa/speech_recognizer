{
 "cells": [
  {
   "cell_type": "markdown",
   "metadata": {},
   "source": [
    "# Speech recognition\n",
    "\n",
    "Simple speech recognition system can be implemented using DTW.\n",
    "\n",
    "This notebook is inspired by [Rouanet DTW library example](http://nbviewer.jupyter.org/github/pierre-rouanet/dtw/blob/master/speech-recognition.ipynb)"
   ]
  },
  {
   "cell_type": "markdown",
   "metadata": {},
   "source": [
    "We will use a simple [database](https://www.dropbox.com/s/c12fmsctfwwov5d/sounds.zip) composed of 12 french words pronounced about 25 times by different speakers."
   ]
  },
  {
   "cell_type": "code",
   "execution_count": 140,
   "metadata": {},
   "outputs": [],
   "source": [
    "import librosa\n",
    "from dtw import dtw\n",
    "import matplotlib as plt\n",
    "import numpy as np\n",
    "import glob\n",
    "\n",
    "%matplotlib inline"
   ]
  },
  {
   "cell_type": "markdown",
   "metadata": {},
   "source": [
    "### Loading Data"
   ]
  },
  {
   "cell_type": "code",
   "execution_count": 154,
   "metadata": {},
   "outputs": [
    {
     "name": "stdout",
     "output_type": "stream",
     "text": [
      "CPU times: user 7.05 s, sys: 20 ms, total: 7.07 s\n",
      "Wall time: 7.07 s\n"
     ]
    }
   ],
   "source": [
    "%%time\n",
    "\n",
    "y = []\n",
    "with open('sounds/wavToTag.txt') as f:\n",
    "    y = list([l.replace('\\n', '') for l in f.readlines()])\n",
    "\n",
    "X = []\n",
    "for i in range(len(y)):\n",
    "    x, sample_rate = librosa.load(\"sounds/{}.wav\".format(i))\n",
    "    X.append(x)"
   ]
  },
  {
   "cell_type": "markdown",
   "metadata": {},
   "source": [
    "### Processing"
   ]
  },
  {
   "cell_type": "code",
   "execution_count": 155,
   "metadata": {
    "collapsed": true
   },
   "outputs": [],
   "source": [
    "n_window_samples = int(sample_rate * 2 * 10**(-3))\n",
    "\n",
    "def reshape_sound(x):\n",
    "    # reshape into windows of width of 20 ms\n",
    "    \n",
    "    new_len = np.floor_divide(x.shape[0], n_window_samples) * n_window_samples\n",
    "    x = x[0:new_len]\n",
    "    x = x.reshape((n_window_samples, -1), order='F')\n",
    "    return x"
   ]
  },
  {
   "cell_type": "code",
   "execution_count": 156,
   "metadata": {},
   "outputs": [],
   "source": [
    "X = [reshape_sound(x) for x in X]"
   ]
  },
  {
   "cell_type": "markdown",
   "metadata": {},
   "source": [
    "### Define groundtruth data"
   ]
  },
  {
   "cell_type": "code",
   "execution_count": 157,
   "metadata": {},
   "outputs": [],
   "source": [
    "gt = dict()\n",
    "\n",
    "unique_labels = set(labels)\n",
    "for l in unique_labels:\n",
    "    idx = labels.index(l)\n",
    "    labels.pop(idx)\n",
    "    x = X.pop(idx)\n",
    "    gt[l] = x"
   ]
  },
  {
   "cell_type": "markdown",
   "metadata": {},
   "source": [
    "### Testing it!"
   ]
  },
  {
   "cell_type": "code",
   "execution_count": 189,
   "metadata": {},
   "outputs": [
    {
     "name": "stdout",
     "output_type": "stream",
     "text": [
      "Original label: [gants]\n",
      "[('manette', 36195),\n",
      " ('gants', 37033),\n",
      " ('biere', 38784),\n",
      " ('chaussure', 44640),\n",
      " ('sofoot', 47688),\n",
      " ('zidane', 49347),\n",
      " ('jeuvideo', 51936),\n",
      " ('stade', 53277),\n",
      " ('girondins', 55749),\n",
      " ('beckham', 56872),\n",
      " ('cocacola', 58623),\n",
      " ('ballon', 97592)]\n"
     ]
    }
   ],
   "source": [
    "import operator\n",
    "from pprint import pprint\n",
    "\n",
    "idx = 95\n",
    "x = X[idx]\n",
    "\n",
    "print(\"Original label: [{}]\".format(labels[idx]))\n",
    "results = {}\n",
    "for label, ground in gt.items():\n",
    "    cost, path = librosa.dtw(x, ground)\n",
    "    min_cost = 0\n",
    "    for p in path:\n",
    "        min_cost += cost[p[0], p[1]]\n",
    "    results[label] = int(min_cost)\n",
    "    \n",
    "pprint(sorted(results.items(), key=operator.itemgetter(1)))"
   ]
  }
 ],
 "metadata": {
  "kernelspec": {
   "display_name": "Python 3",
   "language": "python",
   "name": "python3"
  },
  "language_info": {
   "codemirror_mode": {
    "name": "ipython",
    "version": 3
   },
   "file_extension": ".py",
   "mimetype": "text/x-python",
   "name": "python",
   "nbconvert_exporter": "python",
   "pygments_lexer": "ipython3",
   "version": "3.5.2"
  }
 },
 "nbformat": 4,
 "nbformat_minor": 1
}
